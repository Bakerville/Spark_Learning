{
 "cells": [
  {
   "cell_type": "code",
   "execution_count": 0,
   "metadata": {
    "application/vnd.databricks.v1+cell": {
     "cellMetadata": {
      "byteLimit": 2048000,
      "rowLimit": 10000
     },
     "inputWidgets": {},
     "nuid": "e0cd3f34-987b-4e21-b5d0-7ade25bb37d9",
     "showTitle": false,
     "title": ""
    }
   },
   "outputs": [],
   "source": [
    "from pyspark.sql.functions import *\n",
    "from pyspark.sql.types import IntegerType, BooleanType, MapType, LongType\n",
    "import math\n",
    "import time"
   ]
  },
  {
   "cell_type": "code",
   "execution_count": 0,
   "metadata": {
    "application/vnd.databricks.v1+cell": {
     "cellMetadata": {
      "byteLimit": 2048000,
      "rowLimit": 10000
     },
     "inputWidgets": {},
     "nuid": "762e349b-4e97-4969-9dab-8312b740fa4a",
     "showTitle": false,
     "title": ""
    }
   },
   "outputs": [],
   "source": [
    "def is_prime(number):\n",
    "        flag = True\n",
    "        if number == 0 or number ==1:\n",
    "            return False\n",
    "        elif number == 2:\n",
    "            return True\n",
    "        else:\n",
    "            index = 2\n",
    "            while(index <= math.sqrt(number)):\n",
    "                if(number%index==0):\n",
    "                    return False\n",
    "                index= index +1\n",
    "            return True\n",
    "\n",
    "is_prime_udf = udf(is_prime, BooleanType())"
   ]
  },
  {
   "cell_type": "code",
   "execution_count": 0,
   "metadata": {
    "application/vnd.databricks.v1+cell": {
     "cellMetadata": {
      "byteLimit": 2048000,
      "rowLimit": 10000
     },
     "inputWidgets": {},
     "nuid": "0c374807-1cfc-49aa-a680-4ad8fbda6c56",
     "showTitle": false,
     "title": ""
    }
   },
   "outputs": [],
   "source": [
    "class PrimeDataFrame():\n",
    "    def __init__(self): \n",
    "        return None\n",
    "\n",
    "    def generate_dataframe(self,size,max_value, num_partitions=2):\n",
    "        number_df = spark.range(0, size, 1,num_partitions).withColumn('value', round(rand(seed=42)*max_value,0).cast(LongType()))\n",
    "\n",
    "        return number_df\n",
    "    \n",
    "    def filtered_prime_df(self, df):\n",
    "        df_with_filtered_col = df.withColumn('is_prime', is_prime_udf(df.value))\n",
    "        primeDF = df_with_filtered_col.filter(df_with_filtered_col.is_prime==True)\n",
    "        return primeDF\n",
    "    \n",
    "    \n",
    "    def count_value(self, df):\n",
    "        start = time.time()\n",
    "        count = df.count()\n",
    "        end = time.time()\n",
    "        count_time = end-start\n",
    "        return count, count_time\n",
    "    \n",
    "    def sum_value(self,df):\n",
    "        start = time.time()\n",
    "        total = df.agg(sum(\"value\")).collect()[0][-1]\n",
    "        end = time.time()\n",
    "        sum_time = end-start\n",
    "        return total, sum_time\n",
    "    "
   ]
  },
  {
   "cell_type": "code",
   "execution_count": 0,
   "metadata": {
    "application/vnd.databricks.v1+cell": {
     "cellMetadata": {
      "byteLimit": 2048000,
      "rowLimit": 10000
     },
     "inputWidgets": {},
     "nuid": "2201319e-b45d-4455-906b-0e4b3bda6068",
     "showTitle": false,
     "title": ""
    }
   },
   "outputs": [
    {
     "output_type": "stream",
     "name": "stdout",
     "output_type": "stream",
     "text": [
      "+-----+-----+--------+\n|   id|value|is_prime|\n+-----+-----+--------+\n|34229|  739|    true|\n|14063|  547|    true|\n| 7722|  109|    true|\n| 3881|  401|    true|\n| 4654|  449|    true|\n|44320|  557|    true|\n| 7736|  487|    true|\n| 3424|  107|    true|\n|44442|  443|    true|\n| 5642|  439|    true|\n|45931|  479|    true|\n|47896|  151|    true|\n|18152|  883|    true|\n| 3474|  787|    true|\n|43947|   61|    true|\n| 7650|  587|    true|\n|37089|   23|    true|\n|21907|  461|    true|\n| 5286|   97|    true|\n|48590|  181|    true|\n+-----+-----+--------+\nonly showing top 20 rows\n\n"
     ]
    }
   ],
   "source": [
    "size = 100000\n",
    "max_value = 1000\n",
    "number_partition = 2\n",
    "\n",
    "PrimeNumberGrenerator = PrimeDataFrame()\n",
    "\n",
    "df = PrimeNumberGrenerator.generate_dataframe(size, max_value, number_partition)\n",
    "\n",
    "prime_df = PrimeNumberGrenerator.filtered_prime_df(df)\n",
    "\n",
    "prime_df.show()"
   ]
  },
  {
   "cell_type": "code",
   "execution_count": 0,
   "metadata": {
    "application/vnd.databricks.v1+cell": {
     "cellMetadata": {
      "byteLimit": 2048000,
      "rowLimit": 10000
     },
     "inputWidgets": {},
     "nuid": "c98e4ddd-e620-4b2b-a1ac-644d656348b9",
     "showTitle": false,
     "title": ""
    }
   },
   "outputs": [
    {
     "output_type": "stream",
     "name": "stdout",
     "output_type": "stream",
     "text": [
      "Number prime:  16892 - Time:  1.5926926136016846\n"
     ]
    }
   ],
   "source": [
    "count, count_time = PrimeNumberGrenerator.count_value(prime_df)\n",
    "print(\"Number prime: \", count, \"- Time: \", count_time)"
   ]
  },
  {
   "cell_type": "code",
   "execution_count": 0,
   "metadata": {
    "application/vnd.databricks.v1+cell": {
     "cellMetadata": {
      "byteLimit": 2048000,
      "rowLimit": 10000
     },
     "inputWidgets": {},
     "nuid": "6b973f02-5745-4047-8dbf-515ace1f479f",
     "showTitle": false,
     "title": ""
    }
   },
   "outputs": [
    {
     "output_type": "stream",
     "name": "stdout",
     "output_type": "stream",
     "text": [
      "Sum of prime:  7639561 - Time:  1.394909143447876\n"
     ]
    }
   ],
   "source": [
    "total, sum_time = PrimeNumberGrenerator.sum_value(prime_df)\n",
    "print(\"Sum of prime: \", total, \"- Time: \", sum_time)"
   ]
  },
  {
   "cell_type": "code",
   "execution_count": 0,
   "metadata": {
    "application/vnd.databricks.v1+cell": {
     "cellMetadata": {
      "byteLimit": 2048000,
      "rowLimit": 10000
     },
     "inputWidgets": {},
     "nuid": "9841d441-fa38-44a2-b796-7402aa61457c",
     "showTitle": false,
     "title": ""
    }
   },
   "outputs": [
    {
     "output_type": "stream",
     "name": "stdout",
     "output_type": "stream",
     "text": [
      "[0.9902770519256592, 1.2665207386016846, 1.0317580699920654, 1.4225285053253174, 0.9424629211425781, 1.0460071563720703] [0.9141724109649658, 1.0297207832336426, 1.0509798526763916, 0.9083333015441895, 0.9160699844360352, 0.9558217525482178]\n"
     ]
    }
   ],
   "source": [
    "number_partition = [1,2,3,4,5,6]\n",
    "time_sum = []\n",
    "time_count = []\n",
    "\n",
    "for i in number_partition:\n",
    "    PrimeNumberGrenerator = PrimeDataFrame()\n",
    "    df = PrimeNumberGrenerator.generate_dataframe(size, max_value, i)\n",
    "    prime_df = PrimeNumberGrenerator.filtered_prime_df(df)\n",
    "\n",
    "    count, count_time = PrimeNumberGrenerator.count_value(prime_df)\n",
    "    total, sum_time = PrimeNumberGrenerator.sum_value(prime_df)\n",
    "\n",
    "    time_sum.append(sum_time)\n",
    "    time_count.append(count_time)"
   ]
  },
  {
   "cell_type": "code",
   "execution_count": 0,
   "metadata": {
    "application/vnd.databricks.v1+cell": {
     "cellMetadata": {
      "byteLimit": 2048000,
      "rowLimit": 10000
     },
     "inputWidgets": {},
     "nuid": "a72c7fbb-737b-4ba0-b80a-614cc79c5e16",
     "showTitle": false,
     "title": ""
    }
   },
   "outputs": [],
   "source": [
    "import pandas as pd\n",
    "import seaborn as sns\n",
    "import matplotlib.pyplot as plt\n",
    "\n",
    "statistic_df = pd.DataFrame({\"number_partition\":number_partition, \"time_of_sum\": time_sum, \"time_of_count\":time_count})"
   ]
  },
  {
   "cell_type": "code",
   "execution_count": 0,
   "metadata": {
    "application/vnd.databricks.v1+cell": {
     "cellMetadata": {
      "byteLimit": 2048000,
      "rowLimit": 10000
     },
     "inputWidgets": {},
     "nuid": "f1ec5c10-0e39-456c-991c-663893e4d154",
     "showTitle": false,
     "title": ""
    }
   },
   "outputs": [
    {
     "output_type": "display_data",
     "data": {
      "text/html": [
       "<div>\n",
       "<style scoped>\n",
       "    .dataframe tbody tr th:only-of-type {\n",
       "        vertical-align: middle;\n",
       "    }\n",
       "\n",
       "    .dataframe tbody tr th {\n",
       "        vertical-align: top;\n",
       "    }\n",
       "\n",
       "    .dataframe thead th {\n",
       "        text-align: right;\n",
       "    }\n",
       "</style>\n",
       "<table border=\"1\" class=\"dataframe\">\n",
       "  <thead>\n",
       "    <tr style=\"text-align: right;\">\n",
       "      <th></th>\n",
       "      <th>number_partition</th>\n",
       "      <th>time_of_sum</th>\n",
       "      <th>time_of_count</th>\n",
       "    </tr>\n",
       "  </thead>\n",
       "  <tbody>\n",
       "    <tr>\n",
       "      <th>0</th>\n",
       "      <td>1</td>\n",
       "      <td>0.990277</td>\n",
       "      <td>0.914172</td>\n",
       "    </tr>\n",
       "    <tr>\n",
       "      <th>1</th>\n",
       "      <td>2</td>\n",
       "      <td>1.266521</td>\n",
       "      <td>1.029721</td>\n",
       "    </tr>\n",
       "    <tr>\n",
       "      <th>2</th>\n",
       "      <td>3</td>\n",
       "      <td>1.031758</td>\n",
       "      <td>1.050980</td>\n",
       "    </tr>\n",
       "    <tr>\n",
       "      <th>3</th>\n",
       "      <td>4</td>\n",
       "      <td>1.422529</td>\n",
       "      <td>0.908333</td>\n",
       "    </tr>\n",
       "    <tr>\n",
       "      <th>4</th>\n",
       "      <td>5</td>\n",
       "      <td>0.942463</td>\n",
       "      <td>0.916070</td>\n",
       "    </tr>\n",
       "    <tr>\n",
       "      <th>5</th>\n",
       "      <td>6</td>\n",
       "      <td>1.046007</td>\n",
       "      <td>0.955822</td>\n",
       "    </tr>\n",
       "  </tbody>\n",
       "</table>\n",
       "</div>"
      ]
     },
     "metadata": {
      "application/vnd.databricks.v1+output": {
       "addedWidgets": {},
       "arguments": {},
       "data": "<div>\n<style scoped>\n    .dataframe tbody tr th:only-of-type {\n        vertical-align: middle;\n    }\n\n    .dataframe tbody tr th {\n        vertical-align: top;\n    }\n\n    .dataframe thead th {\n        text-align: right;\n    }\n</style>\n<table border=\"1\" class=\"dataframe\">\n  <thead>\n    <tr style=\"text-align: right;\">\n      <th></th>\n      <th>number_partition</th>\n      <th>time_of_sum</th>\n      <th>time_of_count</th>\n    </tr>\n  </thead>\n  <tbody>\n    <tr>\n      <th>0</th>\n      <td>1</td>\n      <td>0.990277</td>\n      <td>0.914172</td>\n    </tr>\n    <tr>\n      <th>1</th>\n      <td>2</td>\n      <td>1.266521</td>\n      <td>1.029721</td>\n    </tr>\n    <tr>\n      <th>2</th>\n      <td>3</td>\n      <td>1.031758</td>\n      <td>1.050980</td>\n    </tr>\n    <tr>\n      <th>3</th>\n      <td>4</td>\n      <td>1.422529</td>\n      <td>0.908333</td>\n    </tr>\n    <tr>\n      <th>4</th>\n      <td>5</td>\n      <td>0.942463</td>\n      <td>0.916070</td>\n    </tr>\n    <tr>\n      <th>5</th>\n      <td>6</td>\n      <td>1.046007</td>\n      <td>0.955822</td>\n    </tr>\n  </tbody>\n</table>\n</div>",
       "datasetInfos": [],
       "metadata": {},
       "removedWidgets": [],
       "textData": null,
       "type": "htmlSandbox"
      }
     },
     "output_type": "display_data"
    }
   ],
   "source": [
    "statistic_df"
   ]
  },
  {
   "cell_type": "code",
   "execution_count": 0,
   "metadata": {
    "application/vnd.databricks.v1+cell": {
     "cellMetadata": {
      "byteLimit": 2048000,
      "rowLimit": 10000
     },
     "inputWidgets": {},
     "nuid": "36774338-c960-4ecd-be75-33a900f6ba44",
     "showTitle": false,
     "title": ""
    }
   },
   "outputs": [
    {
     "output_type": "display_data",
     "data": {
      "text/html": [
       "<div>\n",
       "<style scoped>\n",
       "    .dataframe tbody tr th:only-of-type {\n",
       "        vertical-align: middle;\n",
       "    }\n",
       "\n",
       "    .dataframe tbody tr th {\n",
       "        vertical-align: top;\n",
       "    }\n",
       "\n",
       "    .dataframe thead th {\n",
       "        text-align: right;\n",
       "    }\n",
       "</style>\n",
       "<table border=\"1\" class=\"dataframe\">\n",
       "  <thead>\n",
       "    <tr style=\"text-align: right;\">\n",
       "      <th></th>\n",
       "      <th>number_partition</th>\n",
       "      <th>time_of_sum</th>\n",
       "      <th>time_of_count</th>\n",
       "    </tr>\n",
       "  </thead>\n",
       "  <tbody>\n",
       "    <tr>\n",
       "      <th>number_partition</th>\n",
       "      <td>1.000000</td>\n",
       "      <td>-0.086617</td>\n",
       "      <td>-0.233786</td>\n",
       "    </tr>\n",
       "    <tr>\n",
       "      <th>time_of_sum</th>\n",
       "      <td>-0.086617</td>\n",
       "      <td>1.000000</td>\n",
       "      <td>0.011246</td>\n",
       "    </tr>\n",
       "    <tr>\n",
       "      <th>time_of_count</th>\n",
       "      <td>-0.233786</td>\n",
       "      <td>0.011246</td>\n",
       "      <td>1.000000</td>\n",
       "    </tr>\n",
       "  </tbody>\n",
       "</table>\n",
       "</div>"
      ]
     },
     "metadata": {
      "application/vnd.databricks.v1+output": {
       "addedWidgets": {},
       "arguments": {},
       "data": "<div>\n<style scoped>\n    .dataframe tbody tr th:only-of-type {\n        vertical-align: middle;\n    }\n\n    .dataframe tbody tr th {\n        vertical-align: top;\n    }\n\n    .dataframe thead th {\n        text-align: right;\n    }\n</style>\n<table border=\"1\" class=\"dataframe\">\n  <thead>\n    <tr style=\"text-align: right;\">\n      <th></th>\n      <th>number_partition</th>\n      <th>time_of_sum</th>\n      <th>time_of_count</th>\n    </tr>\n  </thead>\n  <tbody>\n    <tr>\n      <th>number_partition</th>\n      <td>1.000000</td>\n      <td>-0.086617</td>\n      <td>-0.233786</td>\n    </tr>\n    <tr>\n      <th>time_of_sum</th>\n      <td>-0.086617</td>\n      <td>1.000000</td>\n      <td>0.011246</td>\n    </tr>\n    <tr>\n      <th>time_of_count</th>\n      <td>-0.233786</td>\n      <td>0.011246</td>\n      <td>1.000000</td>\n    </tr>\n  </tbody>\n</table>\n</div>",
       "datasetInfos": [],
       "metadata": {},
       "removedWidgets": [],
       "textData": null,
       "type": "htmlSandbox"
      }
     },
     "output_type": "display_data"
    }
   ],
   "source": [
    "statistic_df.corr()"
   ]
  },
  {
   "cell_type": "code",
   "execution_count": 0,
   "metadata": {
    "application/vnd.databricks.v1+cell": {
     "cellMetadata": {
      "byteLimit": 2048000,
      "rowLimit": 10000
     },
     "inputWidgets": {},
     "nuid": "bcde20ca-88ba-4deb-a7c8-4f7df54c86ce",
     "showTitle": false,
     "title": ""
    }
   },
   "outputs": [
    {
     "output_type": "stream",
     "name": "stdout",
     "output_type": "stream",
     "text": [
      "Out[105]: <AxesSubplot:>"
     ]
    },
    {
     "output_type": "display_data",
     "data": {
      "image/png": "[encoded data removed]"
     },
     "metadata": {
      "application/vnd.databricks.v1+output": {
       "addedWidgets": {},
       "arguments": {},
       "data": "data:image/png;base64,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\n",
       "datasetInfos": [],
       "metadata": {},
       "removedWidgets": [],
       "type": "image"
      }
     },
     "output_type": "display_data"
    }
   ],
   "source": [
    "sns.heatmap(statistic_df.corr(),annot=True, cmap=\"YlGnBu\")"
   ]
  },
  {
   "cell_type": "code",
   "execution_count": 0,
   "metadata": {
    "application/vnd.databricks.v1+cell": {
     "cellMetadata": {
      "byteLimit": 2048000,
      "rowLimit": 10000
     },
     "inputWidgets": {},
     "nuid": "d619d44e-e7ae-48e5-b0a8-599817046292",
     "showTitle": false,
     "title": ""
    }
   },
   "outputs": [
    {
     "output_type": "stream",
     "name": "stdout",
     "output_type": "stream",
     "text": [
      "Out[107]: <AxesSubplot:xlabel='time_of_sum', ylabel='number_partition'>"
     ]
    },
    {
     "output_type": "display_data",
     "data": {
      "image/png": "[encoded data removed]"
     },
     "metadata": {
      "application/vnd.databricks.v1+output": {
       "addedWidgets": {},
       "arguments": {},
       "data": "data:image/png;base64,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\n",
       "datasetInfos": [],
       "metadata": {},
       "removedWidgets": [],
       "type": "image"
      }
     },
     "output_type": "display_data"
    }
   ],
   "source": [
    "plt.figure(figsize=(15,8))\n",
    "sns.barplot(data=statistic_df, y=\"number_partition\", x=\"time_of_sum\", orient='h', palette=sns.color_palette(\"Paired\"))"
   ]
  },
  {
   "cell_type": "code",
   "execution_count": 0,
   "metadata": {
    "application/vnd.databricks.v1+cell": {
     "cellMetadata": {
      "byteLimit": 2048000,
      "rowLimit": 10000
     },
     "inputWidgets": {},
     "nuid": "a7b879b3-280b-4bf1-94fa-cea38c801681",
     "showTitle": false,
     "title": ""
    }
   },
   "outputs": [
    {
     "output_type": "display_data",
     "data": {
      "image/png": "[encoded data removed]"
     },
     "metadata": {
      "application/vnd.databricks.v1+output": {
       "addedWidgets": {},
       "arguments": {},
       "data": "data:image/png;base64,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\n",
       "datasetInfos": [],
       "metadata": {},
       "removedWidgets": [],
       "type": "image"
      }
     },
     "output_type": "display_data"
    }
   ],
   "source": [
    "plt.figure(figsize=(10,8))\n",
    "sns.barplot(data=statistic_df, y=\"number_partition\", x=\"time_of_count\", orient='h', palette=sns.color_palette(\"Paired\"))\n",
    "plt.show()"
   ]
  }
 ],
 "metadata": {
  "application/vnd.databricks.v1+notebook": {
   "dashboards": [],
   "environmentMetadata": null,
   "language": "python",
   "notebookMetadata": {
    "pythonIndentUnit": 4
   },
   "notebookName": "RDD",
   "widgets": {}
  }
 },
 "nbformat": 4,
 "nbformat_minor": 0
}
