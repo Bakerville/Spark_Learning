{
 "cells": [
  {
   "cell_type": "code",
   "execution_count": 1,
   "metadata": {},
   "outputs": [],
   "source": [
    "from pyspark.sql import SparkSession"
   ]
  },
  {
   "cell_type": "code",
   "execution_count": 2,
   "metadata": {},
   "outputs": [],
   "source": [
    "spark = SparkSession.builder\\\n",
    "                .master(\"local[2]\")\\\n",
    "                .config('spark.executor.memory','450M')\\\n",
    "                .config('spark.sql.warehouse.dir',\"./warehouse\")\\\n",
    "                .config('spark.local.directory','./shuffle')\\\n",
    "                .config('spark.sql.files.maxPartitionBytes','128M')\\\n",
    "                .appName('test.com')\\\n",
    "                .getOrCreate()"
   ]
  },
  {
   "cell_type": "code",
   "execution_count": 3,
   "metadata": {},
   "outputs": [
    {
     "data": {
      "text/plain": [
       "[('spark.driver.extraJavaOptions',\n",
       "  '-Djava.net.preferIPv6Addresses=false -XX:+IgnoreUnrecognizedVMOptions --add-opens=java.base/java.lang=ALL-UNNAMED --add-opens=java.base/java.lang.invoke=ALL-UNNAMED --add-opens=java.base/java.lang.reflect=ALL-UNNAMED --add-opens=java.base/java.io=ALL-UNNAMED --add-opens=java.base/java.net=ALL-UNNAMED --add-opens=java.base/java.nio=ALL-UNNAMED --add-opens=java.base/java.util=ALL-UNNAMED --add-opens=java.base/java.util.concurrent=ALL-UNNAMED --add-opens=java.base/java.util.concurrent.atomic=ALL-UNNAMED --add-opens=java.base/jdk.internal.ref=ALL-UNNAMED --add-opens=java.base/sun.nio.ch=ALL-UNNAMED --add-opens=java.base/sun.nio.cs=ALL-UNNAMED --add-opens=java.base/sun.security.action=ALL-UNNAMED --add-opens=java.base/sun.util.calendar=ALL-UNNAMED --add-opens=java.security.jgss/sun.security.krb5=ALL-UNNAMED -Djdk.reflect.useDirectMethodHandle=false'),\n",
       " ('spark.driver.host', '10.88.51.138'),\n",
       " ('spark.driver.port', '53124'),\n",
       " ('spark.app.name', 'test.com'),\n",
       " ('spark.app.startTime', '1720427100497'),\n",
       " ('spark.executor.id', 'driver'),\n",
       " ('spark.app.submitTime', '1720427100347'),\n",
       " ('spark.sql.files.maxPartitionBytes', '128M'),\n",
       " ('spark.sql.warehouse.dir', './warehouse'),\n",
       " ('spark.executor.memory', '450M'),\n",
       " ('spark.app.id', 'local-1720427101564'),\n",
       " ('spark.rdd.compress', 'True'),\n",
       " ('spark.executor.extraJavaOptions',\n",
       "  '-Djava.net.preferIPv6Addresses=false -XX:+IgnoreUnrecognizedVMOptions --add-opens=java.base/java.lang=ALL-UNNAMED --add-opens=java.base/java.lang.invoke=ALL-UNNAMED --add-opens=java.base/java.lang.reflect=ALL-UNNAMED --add-opens=java.base/java.io=ALL-UNNAMED --add-opens=java.base/java.net=ALL-UNNAMED --add-opens=java.base/java.nio=ALL-UNNAMED --add-opens=java.base/java.util=ALL-UNNAMED --add-opens=java.base/java.util.concurrent=ALL-UNNAMED --add-opens=java.base/java.util.concurrent.atomic=ALL-UNNAMED --add-opens=java.base/jdk.internal.ref=ALL-UNNAMED --add-opens=java.base/sun.nio.ch=ALL-UNNAMED --add-opens=java.base/sun.nio.cs=ALL-UNNAMED --add-opens=java.base/sun.security.action=ALL-UNNAMED --add-opens=java.base/sun.util.calendar=ALL-UNNAMED --add-opens=java.security.jgss/sun.security.krb5=ALL-UNNAMED -Djdk.reflect.useDirectMethodHandle=false'),\n",
       " ('spark.serializer.objectStreamReset', '100'),\n",
       " ('spark.local.directory', './shuffle'),\n",
       " ('spark.submit.pyFiles', ''),\n",
       " ('spark.submit.deployMode', 'client'),\n",
       " ('spark.ui.showConsoleProgress', 'true'),\n",
       " ('spark.master', 'local[2]')]"
      ]
     },
     "execution_count": 3,
     "metadata": {},
     "output_type": "execute_result"
    }
   ],
   "source": [
    "spark.sparkContext.getConf().getAll()"
   ]
  },
  {
   "cell_type": "code",
   "execution_count": 4,
   "metadata": {},
   "outputs": [
    {
     "name": "stdout",
     "output_type": "stream",
     "text": [
      "+----------+--------------------+--------+----------+--------------------+------------------+------------------+--------------------+-----------------+-------------------------+--------------------+----------------------+-------------------+--------+-----+--------+---------+----------------+------------+------------+--------+--------------------+---------------+---------------+---------------+--------------------+----------------------+-------------------------+---------------------+---------------------------+----------------------+--------------------+--------------------+\n",
      "|listing_id|                name| host_id|host_since|       host_location|host_response_time|host_response_rate|host_acceptance_rate|host_is_superhost|host_total_listings_count|host_has_profile_pic|host_identity_verified|      neighbourhood|district| city|latitude|longitude|   property_type|   room_type|accommodates|bedrooms|           amenities|          price| minimum_nights| maximum_nights|review_scores_rating|review_scores_accuracy|review_scores_cleanliness|review_scores_checkin|review_scores_communication|review_scores_location| review_scores_value|    instant_bookable|\n",
      "+----------+--------------------+--------+----------+--------------------+------------------+------------------+--------------------+-----------------+-------------------------+--------------------+----------------------+-------------------+--------+-----+--------+---------+----------------+------------+------------+--------+--------------------+---------------+---------------+---------------+--------------------+----------------------+-------------------------+---------------------+---------------------------+----------------------+--------------------+--------------------+\n",
      "|    281420|Beautiful Flat in...| 1466919|2011-12-03|Paris, Ile-de-Fra...|              NULL|              NULL|                NULL|                f|                        1|                   t|                     f|  Buttes-Montmartre|    NULL|Paris|48.88668|  2.33343|Entire apartment|Entire place|           2|       1|       \"[\"\"Heating\"\"|    \"\"Kitchen\"\"|     \"\"Washer\"\"|       \"\"Wifi\"\"| \"\"Long term stay...|                    53|                        2|                 1125|                        100|                    10|                  10|                  10|\n",
      "|   3705183|39 mÂ² Paris (Sac...|10328771|2013-11-29|Paris, Ile-de-Fra...|              NULL|              NULL|                NULL|                f|                        1|                   t|                     t|  Buttes-Montmartre|    NULL|Paris|48.88617|  2.34515|Entire apartment|Entire place|           2|       1|       \"[\"\"Shampoo\"\"|    \"\"Heating\"\"|    \"\"Kitchen\"\"| \"\"Essentials\"\"|          \"\"Washer\"\"|             \"\"Dryer\"\"|                 \"\"Wifi\"\"|  \"\"Long term stay...|                        120|                     2|                1125|                 100|\n",
      "|   4082273|Lovely apartment ...|19252768|2014-07-31|Paris, Ile-de-Fra...|              NULL|              NULL|                NULL|                f|                        1|                   t|                     f|             Elysee|    NULL|Paris|48.88112|  2.31712|Entire apartment|Entire place|           2|       1|       \"[\"\"Heating\"\"|         \"\"TV\"\"|    \"\"Kitchen\"\"|     \"\"Washer\"\"|            \"\"Wifi\"\"|   \"\"Long term stay...|                       89|                    2|                       1125|                   100|                  10|                  10|\n",
      "|   4797344|Cosy studio (clos...|10668311|2013-12-17|Paris, Ile-de-Fra...|              NULL|              NULL|                NULL|                f|                        1|                   t|                     t|          Vaugirard|    NULL|Paris|48.84571|  2.30584|Entire apartment|Entire place|           2|       1|       \"[\"\"Heating\"\"|         \"\"TV\"\"|    \"\"Kitchen\"\"|       \"\"Wifi\"\"| \"\"Long term stay...|                    58|                        2|                 1125|                        100|                    10|                  10|                  10|\n",
      "|   4823489|Close to Eiffel T...|24837558|2014-12-14|Paris, Ile-de-Fra...|              NULL|              NULL|                NULL|                f|                        1|                   t|                     f|              Passy|    NULL|Paris|  48.855|  2.26979|Entire apartment|Entire place|           2|       1|       \"[\"\"Heating\"\"|         \"\"TV\"\"|    \"\"Kitchen\"\"| \"\"Essentials\"\"|      \"\"Hair dryer\"\"|            \"\"Washer\"\"|                \"\"Dryer\"\"|          \"\"Bathtub\"\"|                   \"\"Wifi\"\"|          \"\"Elevator\"\"| \"\"Long term stay...|      \"\"Cable TV\"\"]\"|\n",
      "|   4898654|NEW - Charming ap...|  505535|2011-04-13|Paris, Ile-de-Fra...|              NULL|              NULL|                NULL|                f|                        1|                   t|                     t|             Temple|    NULL|Paris|48.86428|   2.3537|Entire apartment|Entire place|           2|       1|       \"[\"\"Heating\"\"|         \"\"TV\"\"|    \"\"Kitchen\"\"| \"\"Essentials\"\"|          \"\"Washer\"\"|       \"\"Smoke alarm\"\"|                 \"\"Wifi\"\"|  \"\"Long term stay...|             \"\"Cable TV\"\"]\"|                    95|                   2|                1125|\n",
      "|   6021700|2P - Entre Bastil...| 8053690|2013-08-09|Paris, Ile-de-Fra...|              NULL|              NULL|                NULL|                f|                        1|                   t|                     t|         Popincourt|    NULL|Paris|48.86384|  2.37101|Entire apartment|Entire place|           2|       1|       \"[\"\"Shampoo\"\"|         \"\"TV\"\"|    \"\"Kitchen\"\"|     \"\"Washer\"\"|     \"\"Smoke alarm\"\"|              \"\"Wifi\"\"|      \"\"Fire extinguis...|  \"\"Long term stay...|                         80|                     2|                1125|                 100|\n",
      "|   6945740|57sqm btw. Bastil...| 5924709|2013-04-14|Paris, Ile-de-Fra...|              NULL|              NULL|                NULL|                f|                        1|                   t|                     t|         Popincourt|    NULL|Paris|48.86043|  2.37842|Entire apartment|Entire place|           2|       1|       \"[\"\"Heating\"\"|         \"\"TV\"\"|    \"\"Kitchen\"\"| \"\"Essentials\"\"|          \"\"Washer\"\"|             \"\"Dryer\"\"|          \"\"Smoke alarm\"\"|             \"\"Wifi\"\"|        \"\"Long term stay...|                    59|                   2|                1125|\n",
      "|   7491966|Charming appartme...|35812762|2015-06-14|Paris, Ile-de-Fra...|              NULL|              NULL|                NULL|                f|                        1|                   t|                     t|    Buttes-Chaumont|    NULL|Paris|48.87871|  2.37489|Entire apartment|Entire place|           2|       1|\"[\"\"Paid parking ...|    \"\"Shampoo\"\"|    \"\"Heating\"\"|         \"\"TV\"\"|            \"\"Iron\"\"|           \"\"Kitchen\"\"|           \"\"Hair dryer\"\"|       \"\"Essentials\"\"|                 \"\"Washer\"\"|         \"\"Hot water\"\"|         \"\"Hangers\"\"|     \"\"Smoke alarm\"\"|\n",
      "|   7849932|Bel appartement p...|20833291|2014-09-02|Paris, Ile-de-Fra...|              NULL|              NULL|                NULL|                f|                        1|                   t|                     t|              Opera|    NULL|Paris| 48.8779|  2.33122|Entire apartment|Entire place|           2|       1|       \"[\"\"Heating\"\"|         \"\"TV\"\"|       \"\"Iron\"\"|    \"\"Kitchen\"\"|      \"\"Essentials\"\"|        \"\"Hair dryer\"\"|               \"\"Washer\"\"|          \"\"Hangers\"\"|                   \"\"Wifi\"\"|          \"\"Elevator\"\"| \"\"Long term stay...| \"\"Dedicated work...|\n",
      "|   7995091|Beau 2piÃ¨ces prÃ...|35014275|2015-06-04|Paris, Ile-de-Fra...|              NULL|              NULL|                NULL|                f|                        1|                   t|                     t|           Gobelins|    NULL|Paris|48.82296|  2.34667|Entire apartment|Entire place|           2|       1|       \"[\"\"Heating\"\"|    \"\"Kitchen\"\"| \"\"Essentials\"\"|     \"\"Washer\"\"| \"\"Carbon monoxid...|       \"\"Smoke alarm\"\"|                 \"\"Wifi\"\"|  \"\"Long term stay...|             \"\"Cable TV\"\"]\"|                    60|                   2|                1125|\n",
      "|   9011901|Cosy appartement ...|19939276|2014-08-13|Paris, Ile-de-Fra...|              NULL|              NULL|                NULL|                f|                        1|                   t|                     t|     Hotel-de-Ville|    NULL|Paris|48.85681|  2.35678|Entire apartment|Entire place|           2|       1|       \"[\"\"Shampoo\"\"|    \"\"Heating\"\"|         \"\"TV\"\"|    \"\"Kitchen\"\"|      \"\"Essentials\"\"|            \"\"Washer\"\"|                \"\"Dryer\"\"|      \"\"Smoke alarm\"\"|                   \"\"Wifi\"\"|   \"\"Long term stay...|      \"\"Cable TV\"\"]\"|                  80|\n",
      "|   9880847|Cosy Flat near Ru...|18264466|2014-07-17|Paris, Ile-de-Fra...|              NULL|              NULL|                NULL|                f|                        1|                   t|                     f|           Pantheon|    NULL|Paris|48.83855|  2.35064|Entire apartment|Entire place|           2|       1|       \"[\"\"Heating\"\"|       \"\"Iron\"\"|    \"\"Kitchen\"\"| \"\"Essentials\"\"|      \"\"Hair dryer\"\"|           \"\"Hangers\"\"|          \"\"Smoke alarm\"\"|             \"\"Wifi\"\"|        \"\"Long term stay...|   \"\"Dedicated work...|                  61|                   2|\n",
      "|   9898855|Grand 2 piÃ¨ces d...|10121410|2013-11-19|Paris, Ile-de-Fra...|              NULL|              NULL|                NULL|                f|                        1|                   t|                     t|  Enclos-St-Laurent|    NULL|Paris|48.87437|  2.36208|Entire apartment|Entire place|           2|       1|    \"[\"\"Dishwasher\"\"| \"\"Essentials\"\"|      \"\"Stove\"\"|  \"\"Hot water\"\"|         \"\"Hangers\"\"|       \"\"Smoke alarm\"\"|                 \"\"Wifi\"\"|  \"\"Long term stay...|        \"\"Dedicated work...|                \"\"TV\"\"|            \"\"Iron\"\"|           \"\"Dryer\"\"|\n",
      "|  10266213|Studio pour deux,...|52785202|2015-12-30|Paris, Ile-de-Fra...|              NULL|              NULL|                NULL|                f|                        1|                   t|                     t|             Elysee|    NULL|Paris|48.88074|  2.32384|Entire apartment|Entire place|           2|       1|       \"[\"\"Heating\"\"|         \"\"TV\"\"|       \"\"Iron\"\"|    \"\"Kitchen\"\"|      \"\"Essentials\"\"|        \"\"Hair dryer\"\"|              \"\"Hangers\"\"|             \"\"Wifi\"\"|               \"\"Elevator\"\"|   \"\"Long term stay...|                  35|                   2|\n",
      "|  11643413|Luminous & very c...|34678556|2015-05-31|Paris, Ile-de-Fra...|              NULL|              NULL|                NULL|                f|                        1|                   t|                     f|         Popincourt|    NULL|Paris|48.87064|  2.37499|Entire apartment|Entire place|           2|       1|       \"[\"\"Heating\"\"|         \"\"TV\"\"|       \"\"Iron\"\"|    \"\"Kitchen\"\"|      \"\"Essentials\"\"|        \"\"Hair dryer\"\"|               \"\"Washer\"\"|          \"\"Hangers\"\"|            \"\"Smoke alarm\"\"|              \"\"Wifi\"\"| \"\"Long term stay...| \"\"Dedicated work...|\n",
      "|  11764434|2 piÃ¨ces baignee...|28504056|2015-02-28|Paris, Ile-de-Fra...|              NULL|              NULL|                NULL|                f|                        1|                   t|                     t|Batignolles-Monceau|    NULL|Paris|48.88423|  2.31339|Entire apartment|Entire place|           2|       1|       \"[\"\"Heating\"\"|         \"\"TV\"\"|    \"\"Kitchen\"\"| \"\"Essentials\"\"|      \"\"Hair dryer\"\"|            \"\"Washer\"\"|          \"\"Smoke alarm\"\"|             \"\"Wifi\"\"|        \"\"Long term stay...|                    55|                   2|                1125|\n",
      "|  11963112|Appartement au co...|63894099|2016-03-21|Paris, Ile-de-Fra...|              NULL|              NULL|                NULL|                f|                        1|                   t|                     f|         Popincourt|    NULL|Paris|48.85434|  2.37293|Entire apartment|Entire place|           2|       1|       \"[\"\"Heating\"\"|         \"\"TV\"\"|       \"\"Iron\"\"|    \"\"Kitchen\"\"|      \"\"Essentials\"\"|        \"\"Hair dryer\"\"|               \"\"Washer\"\"|      \"\"Smoke alarm\"\"|                   \"\"Wifi\"\"|   \"\"Long term stay...| \"\"Dedicated work...|                  55|\n",
      "|  11985909|2 rooms Canal St ...| 6056099|2013-04-23|Paris, Ile-de-Fra...|              NULL|              NULL|                NULL|                f|                        1|                   t|                     t|  Enclos-St-Laurent|    NULL|Paris| 48.8734|  2.36972|Entire apartment|Entire place|           2|       1|       \"[\"\"Heating\"\"|       \"\"Iron\"\"|    \"\"Kitchen\"\"| \"\"Essentials\"\"|     \"\"Smoke alarm\"\"|              \"\"Wifi\"\"|             \"\"Elevator\"\"|  \"\"Long term stay...|        \"\"Dedicated work...|                    57|                   2|                1125|\n",
      "|  12331902|      Calm 1 Bedroom|23193463|2014-10-31|Paris, Ile-de-Fra...|              NULL|              NULL|                NULL|                f|                        1|                   t|                     t|           Gobelins|    NULL|Paris|48.83767|  2.35554|Entire apartment|Entire place|           2|       1|       \"[\"\"Heating\"\"|         \"\"TV\"\"|       \"\"Iron\"\"|    \"\"Kitchen\"\"|      \"\"Essentials\"\"|        \"\"Hair dryer\"\"|               \"\"Washer\"\"|          \"\"Hangers\"\"|            \"\"Smoke alarm\"\"|              \"\"Wifi\"\"| \"\"Long term stay...|                  55|\n",
      "+----------+--------------------+--------+----------+--------------------+------------------+------------------+--------------------+-----------------+-------------------------+--------------------+----------------------+-------------------+--------+-----+--------+---------+----------------+------------+------------+--------+--------------------+---------------+---------------+---------------+--------------------+----------------------+-------------------------+---------------------+---------------------------+----------------------+--------------------+--------------------+\n",
      "only showing top 20 rows\n",
      "\n"
     ]
    }
   ],
   "source": [
    "dim_listing = spark.read\\\n",
    "    .option(\"header\",\"true\")\\\n",
    "    .option(\"inferSchema\", \"true\")\\\n",
    "    .csv(\"./data/Listings.csv\")\n",
    "\n",
    "dim_listing.show()"
   ]
  },
  {
   "cell_type": "code",
   "execution_count": 5,
   "metadata": {},
   "outputs": [
    {
     "name": "stdout",
     "output_type": "stream",
     "text": [
      "+----------+---------+----------+-----------+\n",
      "|listing_id|review_id|      date|reviewer_id|\n",
      "+----------+---------+----------+-----------+\n",
      "|     11798|330265172|2018-09-30|   11863072|\n",
      "|     15383|330103585|2018-09-30|   39147453|\n",
      "|     16455|329985788|2018-09-30|    1125378|\n",
      "|     17919|330016899|2018-09-30|  172717984|\n",
      "|     26827|329995638|2018-09-30|   17542859|\n",
      "|     74561|330089224|2018-09-30|  173044789|\n",
      "|    140355|330194958|2018-09-30|  160093807|\n",
      "|    162163|329980859|2018-09-30|   94026758|\n",
      "|    167998|329950677|2018-09-30|   35388162|\n",
      "|    178188|330213008|2018-09-30|    3652511|\n",
      "|    232956|330140226|2018-09-30|   57664145|\n",
      "|    266725|330038354|2018-09-30|   77387165|\n",
      "|    314288|330299075|2018-09-30|  192717587|\n",
      "|    325880|330081449|2018-09-30|  154527568|\n",
      "|    335003|329968377|2018-09-30|    3461699|\n",
      "|    348747|330131287|2018-09-30|    9554201|\n",
      "|    352851|330201364|2018-09-30|  142182690|\n",
      "|    378714|330246144|2018-09-30|   15772951|\n",
      "|    406852|330283854|2018-09-30|   35469963|\n",
      "|    406891|330095252|2018-09-30|  187332701|\n",
      "+----------+---------+----------+-----------+\n",
      "only showing top 20 rows\n",
      "\n"
     ]
    }
   ],
   "source": [
    "fact_review = spark.read\\\n",
    "    .option(\"header\",\"true\")\\\n",
    "    .option(\"inferSchema\", \"true\")\\\n",
    "    .csv(\"./data/Reviews.csv\")\n",
    "\n",
    "fact_review.show()"
   ]
  },
  {
   "cell_type": "code",
   "execution_count": 6,
   "metadata": {},
   "outputs": [
    {
     "data": {
      "text/plain": [
       "2"
      ]
     },
     "execution_count": 6,
     "metadata": {},
     "output_type": "execute_result"
    }
   ],
   "source": [
    "dim_listing.write.saveAsTable('dim_listing')\n",
    "\n",
    "dim_listing.rdd.getNumPartitions()"
   ]
  },
  {
   "cell_type": "code",
   "execution_count": 7,
   "metadata": {},
   "outputs": [
    {
     "name": "stdout",
     "output_type": "stream",
     "text": [
      "+--------+\n",
      "|count(1)|\n",
      "+--------+\n",
      "|  279712|\n",
      "+--------+\n",
      "\n"
     ]
    }
   ],
   "source": [
    "spark.sql(\"\"\"SELECT count(*) FROM dim_listing\"\"\").show()"
   ]
  },
  {
   "cell_type": "code",
   "execution_count": 8,
   "metadata": {},
   "outputs": [],
   "source": [
    "dim_listing.createOrReplaceTempView('listing')\n",
    "fact_review.createOrReplaceTempView('review')"
   ]
  },
  {
   "cell_type": "code",
   "execution_count": 9,
   "metadata": {},
   "outputs": [
    {
     "name": "stderr",
     "output_type": "stream",
     "text": [
      "ERROR:root:Exception while sending command.\n",
      "Traceback (most recent call last):\n",
      "  File \"c:\\Users\\Admin\\anaconda3\\envs\\myenv\\lib\\site-packages\\py4j\\clientserver.py\", line 511, in send_command\n",
      "    answer = smart_decode(self.stream.readline()[:-1])\n",
      "  File \"c:\\Users\\Admin\\anaconda3\\envs\\myenv\\lib\\socket.py\", line 705, in readinto\n",
      "    return self._sock.recv_into(b)\n",
      "ConnectionResetError: [WinError 10054] An existing connection was forcibly closed by the remote host\n",
      "\n",
      "During handling of the above exception, another exception occurred:\n",
      "\n",
      "Traceback (most recent call last):\n",
      "  File \"c:\\Users\\Admin\\anaconda3\\envs\\myenv\\lib\\site-packages\\py4j\\java_gateway.py\", line 1038, in send_command\n",
      "    response = connection.send_command(command)\n",
      "  File \"c:\\Users\\Admin\\anaconda3\\envs\\myenv\\lib\\site-packages\\py4j\\clientserver.py\", line 539, in send_command\n",
      "    raise Py4JNetworkError(\n",
      "py4j.protocol.Py4JNetworkError: Error while sending or receiving\n"
     ]
    },
    {
     "ename": "ConnectionRefusedError",
     "evalue": "[WinError 10061] No connection could be made because the target machine actively refused it",
     "output_type": "error",
     "traceback": [
      "\u001b[1;31m---------------------------------------------------------------------------\u001b[0m",
      "\u001b[1;31mPy4JJavaError\u001b[0m                             Traceback (most recent call last)",
      "    \u001b[1;31m[... skipping hidden 1 frame]\u001b[0m\n",
      "Input \u001b[1;32mIn [9]\u001b[0m, in \u001b[0;36m<cell line: 6>\u001b[1;34m()\u001b[0m\n\u001b[0;32m      4\u001b[0m df \u001b[38;5;241m=\u001b[39m spark\u001b[38;5;241m.\u001b[39msql(query)\n\u001b[1;32m----> 6\u001b[0m \u001b[43mdf\u001b[49m\u001b[38;5;241;43m.\u001b[39;49m\u001b[43mcollect\u001b[49m\u001b[43m(\u001b[49m\u001b[43m)\u001b[49m\n",
      "File \u001b[1;32mc:\\Users\\Admin\\anaconda3\\envs\\myenv\\lib\\site-packages\\pyspark\\sql\\dataframe.py:1261\u001b[0m, in \u001b[0;36mDataFrame.collect\u001b[1;34m(self)\u001b[0m\n\u001b[0;32m   1260\u001b[0m \u001b[38;5;28;01mwith\u001b[39;00m SCCallSiteSync(\u001b[38;5;28mself\u001b[39m\u001b[38;5;241m.\u001b[39m_sc):\n\u001b[1;32m-> 1261\u001b[0m     sock_info \u001b[38;5;241m=\u001b[39m \u001b[38;5;28;43mself\u001b[39;49m\u001b[38;5;241;43m.\u001b[39;49m\u001b[43m_jdf\u001b[49m\u001b[38;5;241;43m.\u001b[39;49m\u001b[43mcollectToPython\u001b[49m\u001b[43m(\u001b[49m\u001b[43m)\u001b[49m\n\u001b[0;32m   1262\u001b[0m \u001b[38;5;28;01mreturn\u001b[39;00m \u001b[38;5;28mlist\u001b[39m(_load_from_socket(sock_info, BatchedSerializer(CPickleSerializer())))\n",
      "File \u001b[1;32mc:\\Users\\Admin\\anaconda3\\envs\\myenv\\lib\\site-packages\\py4j\\java_gateway.py:1322\u001b[0m, in \u001b[0;36mJavaMember.__call__\u001b[1;34m(self, *args)\u001b[0m\n\u001b[0;32m   1321\u001b[0m answer \u001b[38;5;241m=\u001b[39m \u001b[38;5;28mself\u001b[39m\u001b[38;5;241m.\u001b[39mgateway_client\u001b[38;5;241m.\u001b[39msend_command(command)\n\u001b[1;32m-> 1322\u001b[0m return_value \u001b[38;5;241m=\u001b[39m \u001b[43mget_return_value\u001b[49m\u001b[43m(\u001b[49m\n\u001b[0;32m   1323\u001b[0m \u001b[43m    \u001b[49m\u001b[43manswer\u001b[49m\u001b[43m,\u001b[49m\u001b[43m \u001b[49m\u001b[38;5;28;43mself\u001b[39;49m\u001b[38;5;241;43m.\u001b[39;49m\u001b[43mgateway_client\u001b[49m\u001b[43m,\u001b[49m\u001b[43m \u001b[49m\u001b[38;5;28;43mself\u001b[39;49m\u001b[38;5;241;43m.\u001b[39;49m\u001b[43mtarget_id\u001b[49m\u001b[43m,\u001b[49m\u001b[43m \u001b[49m\u001b[38;5;28;43mself\u001b[39;49m\u001b[38;5;241;43m.\u001b[39;49m\u001b[43mname\u001b[49m\u001b[43m)\u001b[49m\n\u001b[0;32m   1325\u001b[0m \u001b[38;5;28;01mfor\u001b[39;00m temp_arg \u001b[38;5;129;01min\u001b[39;00m temp_args:\n",
      "File \u001b[1;32mc:\\Users\\Admin\\anaconda3\\envs\\myenv\\lib\\site-packages\\pyspark\\errors\\exceptions\\captured.py:179\u001b[0m, in \u001b[0;36mcapture_sql_exception.<locals>.deco\u001b[1;34m(*a, **kw)\u001b[0m\n\u001b[0;32m    178\u001b[0m \u001b[38;5;28;01mtry\u001b[39;00m:\n\u001b[1;32m--> 179\u001b[0m     \u001b[38;5;28;01mreturn\u001b[39;00m f(\u001b[38;5;241m*\u001b[39ma, \u001b[38;5;241m*\u001b[39m\u001b[38;5;241m*\u001b[39mkw)\n\u001b[0;32m    180\u001b[0m \u001b[38;5;28;01mexcept\u001b[39;00m Py4JJavaError \u001b[38;5;28;01mas\u001b[39;00m e:\n",
      "File \u001b[1;32mc:\\Users\\Admin\\anaconda3\\envs\\myenv\\lib\\site-packages\\py4j\\protocol.py:326\u001b[0m, in \u001b[0;36mget_return_value\u001b[1;34m(answer, gateway_client, target_id, name)\u001b[0m\n\u001b[0;32m    325\u001b[0m \u001b[38;5;28;01mif\u001b[39;00m answer[\u001b[38;5;241m1\u001b[39m] \u001b[38;5;241m==\u001b[39m REFERENCE_TYPE:\n\u001b[1;32m--> 326\u001b[0m     \u001b[38;5;28;01mraise\u001b[39;00m Py4JJavaError(\n\u001b[0;32m    327\u001b[0m         \u001b[38;5;124m\"\u001b[39m\u001b[38;5;124mAn error occurred while calling \u001b[39m\u001b[38;5;132;01m{0}\u001b[39;00m\u001b[38;5;132;01m{1}\u001b[39;00m\u001b[38;5;132;01m{2}\u001b[39;00m\u001b[38;5;124m.\u001b[39m\u001b[38;5;130;01m\\n\u001b[39;00m\u001b[38;5;124m\"\u001b[39m\u001b[38;5;241m.\u001b[39m\n\u001b[0;32m    328\u001b[0m         \u001b[38;5;28mformat\u001b[39m(target_id, \u001b[38;5;124m\"\u001b[39m\u001b[38;5;124m.\u001b[39m\u001b[38;5;124m\"\u001b[39m, name), value)\n\u001b[0;32m    329\u001b[0m \u001b[38;5;28;01melse\u001b[39;00m:\n",
      "\u001b[1;31m<class 'str'>\u001b[0m: (<class 'ConnectionRefusedError'>, ConnectionRefusedError(10061, 'No connection could be made because the target machine actively refused it', None, 10061, None))",
      "\nDuring handling of the above exception, another exception occurred:\n",
      "\u001b[1;31mConnectionRefusedError\u001b[0m                    Traceback (most recent call last)",
      "    \u001b[1;31m[... skipping hidden 1 frame]\u001b[0m\n",
      "File \u001b[1;32mc:\\Users\\Admin\\anaconda3\\envs\\myenv\\lib\\site-packages\\IPython\\core\\interactiveshell.py:2004\u001b[0m, in \u001b[0;36mInteractiveShell.showtraceback\u001b[1;34m(self, exc_tuple, filename, tb_offset, exception_only, running_compiled_code)\u001b[0m\n\u001b[0;32m   2001\u001b[0m     traceback\u001b[38;5;241m.\u001b[39mprint_exc()\n\u001b[0;32m   2002\u001b[0m     \u001b[38;5;28;01mreturn\u001b[39;00m \u001b[38;5;28;01mNone\u001b[39;00m\n\u001b[1;32m-> 2004\u001b[0m \u001b[38;5;28;43mself\u001b[39;49m\u001b[38;5;241;43m.\u001b[39;49m\u001b[43m_showtraceback\u001b[49m\u001b[43m(\u001b[49m\u001b[43metype\u001b[49m\u001b[43m,\u001b[49m\u001b[43m \u001b[49m\u001b[43mvalue\u001b[49m\u001b[43m,\u001b[49m\u001b[43m \u001b[49m\u001b[43mstb\u001b[49m\u001b[43m)\u001b[49m\n\u001b[0;32m   2005\u001b[0m \u001b[38;5;28;01mif\u001b[39;00m \u001b[38;5;28mself\u001b[39m\u001b[38;5;241m.\u001b[39mcall_pdb:\n\u001b[0;32m   2006\u001b[0m     \u001b[38;5;66;03m# drop into debugger\u001b[39;00m\n\u001b[0;32m   2007\u001b[0m     \u001b[38;5;28mself\u001b[39m\u001b[38;5;241m.\u001b[39mdebugger(force\u001b[38;5;241m=\u001b[39m\u001b[38;5;28;01mTrue\u001b[39;00m)\n",
      "File \u001b[1;32m~\\AppData\\Roaming\\Python\\Python310\\site-packages\\ipykernel\\zmqshell.py:549\u001b[0m, in \u001b[0;36mZMQInteractiveShell._showtraceback\u001b[1;34m(self, etype, evalue, stb)\u001b[0m\n\u001b[0;32m    543\u001b[0m sys\u001b[38;5;241m.\u001b[39mstdout\u001b[38;5;241m.\u001b[39mflush()\n\u001b[0;32m    544\u001b[0m sys\u001b[38;5;241m.\u001b[39mstderr\u001b[38;5;241m.\u001b[39mflush()\n\u001b[0;32m    546\u001b[0m exc_content \u001b[38;5;241m=\u001b[39m {\n\u001b[0;32m    547\u001b[0m     \u001b[38;5;124m'\u001b[39m\u001b[38;5;124mtraceback\u001b[39m\u001b[38;5;124m'\u001b[39m : stb,\n\u001b[0;32m    548\u001b[0m     \u001b[38;5;124m'\u001b[39m\u001b[38;5;124mename\u001b[39m\u001b[38;5;124m'\u001b[39m : \u001b[38;5;28mstr\u001b[39m(etype\u001b[38;5;241m.\u001b[39m\u001b[38;5;18m__name__\u001b[39m),\n\u001b[1;32m--> 549\u001b[0m     \u001b[38;5;124m'\u001b[39m\u001b[38;5;124mevalue\u001b[39m\u001b[38;5;124m'\u001b[39m : \u001b[43mpy3compat\u001b[49m\u001b[38;5;241;43m.\u001b[39;49m\u001b[43msafe_unicode\u001b[49m\u001b[43m(\u001b[49m\u001b[43mevalue\u001b[49m\u001b[43m)\u001b[49m,\n\u001b[0;32m    550\u001b[0m }\n\u001b[0;32m    552\u001b[0m dh \u001b[38;5;241m=\u001b[39m \u001b[38;5;28mself\u001b[39m\u001b[38;5;241m.\u001b[39mdisplayhook\n\u001b[0;32m    553\u001b[0m \u001b[38;5;66;03m# Send exception info over pub socket for other clients than the caller\u001b[39;00m\n\u001b[0;32m    554\u001b[0m \u001b[38;5;66;03m# to pick up\u001b[39;00m\n",
      "File \u001b[1;32mc:\\Users\\Admin\\anaconda3\\envs\\myenv\\lib\\site-packages\\ipython_genutils\\py3compat.py:65\u001b[0m, in \u001b[0;36msafe_unicode\u001b[1;34m(e)\u001b[0m\n\u001b[0;32m     61\u001b[0m \u001b[38;5;250m\u001b[39m\u001b[38;5;124;03m\"\"\"unicode(e) with various fallbacks. Used for exceptions, which may not be\u001b[39;00m\n\u001b[0;32m     62\u001b[0m \u001b[38;5;124;03msafe to call unicode() on.\u001b[39;00m\n\u001b[0;32m     63\u001b[0m \u001b[38;5;124;03m\"\"\"\u001b[39;00m\n\u001b[0;32m     64\u001b[0m \u001b[38;5;28;01mtry\u001b[39;00m:\n\u001b[1;32m---> 65\u001b[0m     \u001b[38;5;28;01mreturn\u001b[39;00m \u001b[43municode_type\u001b[49m\u001b[43m(\u001b[49m\u001b[43me\u001b[49m\u001b[43m)\u001b[49m\n\u001b[0;32m     66\u001b[0m \u001b[38;5;28;01mexcept\u001b[39;00m \u001b[38;5;167;01mUnicodeError\u001b[39;00m:\n\u001b[0;32m     67\u001b[0m     \u001b[38;5;28;01mpass\u001b[39;00m\n",
      "File \u001b[1;32mc:\\Users\\Admin\\anaconda3\\envs\\myenv\\lib\\site-packages\\py4j\\protocol.py:471\u001b[0m, in \u001b[0;36mPy4JJavaError.__str__\u001b[1;34m(self)\u001b[0m\n\u001b[0;32m    469\u001b[0m \u001b[38;5;28;01mdef\u001b[39;00m \u001b[38;5;21m__str__\u001b[39m(\u001b[38;5;28mself\u001b[39m):\n\u001b[0;32m    470\u001b[0m     gateway_client \u001b[38;5;241m=\u001b[39m \u001b[38;5;28mself\u001b[39m\u001b[38;5;241m.\u001b[39mjava_exception\u001b[38;5;241m.\u001b[39m_gateway_client\n\u001b[1;32m--> 471\u001b[0m     answer \u001b[38;5;241m=\u001b[39m \u001b[43mgateway_client\u001b[49m\u001b[38;5;241;43m.\u001b[39;49m\u001b[43msend_command\u001b[49m\u001b[43m(\u001b[49m\u001b[38;5;28;43mself\u001b[39;49m\u001b[38;5;241;43m.\u001b[39;49m\u001b[43mexception_cmd\u001b[49m\u001b[43m)\u001b[49m\n\u001b[0;32m    472\u001b[0m     return_value \u001b[38;5;241m=\u001b[39m get_return_value(answer, gateway_client, \u001b[38;5;28;01mNone\u001b[39;00m, \u001b[38;5;28;01mNone\u001b[39;00m)\n\u001b[0;32m    473\u001b[0m     \u001b[38;5;66;03m# Note: technically this should return a bytestring 'str' rather than\u001b[39;00m\n\u001b[0;32m    474\u001b[0m     \u001b[38;5;66;03m# unicodes in Python 2; however, it can return unicodes for now.\u001b[39;00m\n\u001b[0;32m    475\u001b[0m     \u001b[38;5;66;03m# See https://github.com/bartdag/py4j/issues/306 for more details.\u001b[39;00m\n",
      "File \u001b[1;32mc:\\Users\\Admin\\anaconda3\\envs\\myenv\\lib\\site-packages\\py4j\\java_gateway.py:1036\u001b[0m, in \u001b[0;36mGatewayClient.send_command\u001b[1;34m(self, command, retry, binary)\u001b[0m\n\u001b[0;32m   1015\u001b[0m \u001b[38;5;28;01mdef\u001b[39;00m \u001b[38;5;21msend_command\u001b[39m(\u001b[38;5;28mself\u001b[39m, command, retry\u001b[38;5;241m=\u001b[39m\u001b[38;5;28;01mTrue\u001b[39;00m, binary\u001b[38;5;241m=\u001b[39m\u001b[38;5;28;01mFalse\u001b[39;00m):\n\u001b[0;32m   1016\u001b[0m \u001b[38;5;250m    \u001b[39m\u001b[38;5;124;03m\"\"\"Sends a command to the JVM. This method is not intended to be\u001b[39;00m\n\u001b[0;32m   1017\u001b[0m \u001b[38;5;124;03m       called directly by Py4J users. It is usually called by\u001b[39;00m\n\u001b[0;32m   1018\u001b[0m \u001b[38;5;124;03m       :class:`JavaMember` instances.\u001b[39;00m\n\u001b[1;32m   (...)\u001b[0m\n\u001b[0;32m   1034\u001b[0m \u001b[38;5;124;03m     if `binary` is `True`.\u001b[39;00m\n\u001b[0;32m   1035\u001b[0m \u001b[38;5;124;03m    \"\"\"\u001b[39;00m\n\u001b[1;32m-> 1036\u001b[0m     connection \u001b[38;5;241m=\u001b[39m \u001b[38;5;28;43mself\u001b[39;49m\u001b[38;5;241;43m.\u001b[39;49m\u001b[43m_get_connection\u001b[49m\u001b[43m(\u001b[49m\u001b[43m)\u001b[49m\n\u001b[0;32m   1037\u001b[0m     \u001b[38;5;28;01mtry\u001b[39;00m:\n\u001b[0;32m   1038\u001b[0m         response \u001b[38;5;241m=\u001b[39m connection\u001b[38;5;241m.\u001b[39msend_command(command)\n",
      "File \u001b[1;32mc:\\Users\\Admin\\anaconda3\\envs\\myenv\\lib\\site-packages\\py4j\\clientserver.py:284\u001b[0m, in \u001b[0;36mJavaClient._get_connection\u001b[1;34m(self)\u001b[0m\n\u001b[0;32m    281\u001b[0m     \u001b[38;5;28;01mpass\u001b[39;00m\n\u001b[0;32m    283\u001b[0m \u001b[38;5;28;01mif\u001b[39;00m connection \u001b[38;5;129;01mis\u001b[39;00m \u001b[38;5;28;01mNone\u001b[39;00m \u001b[38;5;129;01mor\u001b[39;00m connection\u001b[38;5;241m.\u001b[39msocket \u001b[38;5;129;01mis\u001b[39;00m \u001b[38;5;28;01mNone\u001b[39;00m:\n\u001b[1;32m--> 284\u001b[0m     connection \u001b[38;5;241m=\u001b[39m \u001b[38;5;28;43mself\u001b[39;49m\u001b[38;5;241;43m.\u001b[39;49m\u001b[43m_create_new_connection\u001b[49m\u001b[43m(\u001b[49m\u001b[43m)\u001b[49m\n\u001b[0;32m    285\u001b[0m \u001b[38;5;28;01mreturn\u001b[39;00m connection\n",
      "File \u001b[1;32mc:\\Users\\Admin\\anaconda3\\envs\\myenv\\lib\\site-packages\\py4j\\clientserver.py:291\u001b[0m, in \u001b[0;36mJavaClient._create_new_connection\u001b[1;34m(self)\u001b[0m\n\u001b[0;32m    287\u001b[0m \u001b[38;5;28;01mdef\u001b[39;00m \u001b[38;5;21m_create_new_connection\u001b[39m(\u001b[38;5;28mself\u001b[39m):\n\u001b[0;32m    288\u001b[0m     connection \u001b[38;5;241m=\u001b[39m ClientServerConnection(\n\u001b[0;32m    289\u001b[0m         \u001b[38;5;28mself\u001b[39m\u001b[38;5;241m.\u001b[39mjava_parameters, \u001b[38;5;28mself\u001b[39m\u001b[38;5;241m.\u001b[39mpython_parameters,\n\u001b[0;32m    290\u001b[0m         \u001b[38;5;28mself\u001b[39m\u001b[38;5;241m.\u001b[39mgateway_property, \u001b[38;5;28mself\u001b[39m)\n\u001b[1;32m--> 291\u001b[0m     \u001b[43mconnection\u001b[49m\u001b[38;5;241;43m.\u001b[39;49m\u001b[43mconnect_to_java_server\u001b[49m\u001b[43m(\u001b[49m\u001b[43m)\u001b[49m\n\u001b[0;32m    292\u001b[0m     \u001b[38;5;28mself\u001b[39m\u001b[38;5;241m.\u001b[39mset_thread_connection(connection)\n\u001b[0;32m    293\u001b[0m     \u001b[38;5;28;01mreturn\u001b[39;00m connection\n",
      "File \u001b[1;32mc:\\Users\\Admin\\anaconda3\\envs\\myenv\\lib\\site-packages\\py4j\\clientserver.py:438\u001b[0m, in \u001b[0;36mClientServerConnection.connect_to_java_server\u001b[1;34m(self)\u001b[0m\n\u001b[0;32m    435\u001b[0m \u001b[38;5;28;01mif\u001b[39;00m \u001b[38;5;28mself\u001b[39m\u001b[38;5;241m.\u001b[39mssl_context:\n\u001b[0;32m    436\u001b[0m     \u001b[38;5;28mself\u001b[39m\u001b[38;5;241m.\u001b[39msocket \u001b[38;5;241m=\u001b[39m \u001b[38;5;28mself\u001b[39m\u001b[38;5;241m.\u001b[39mssl_context\u001b[38;5;241m.\u001b[39mwrap_socket(\n\u001b[0;32m    437\u001b[0m         \u001b[38;5;28mself\u001b[39m\u001b[38;5;241m.\u001b[39msocket, server_hostname\u001b[38;5;241m=\u001b[39m\u001b[38;5;28mself\u001b[39m\u001b[38;5;241m.\u001b[39mjava_address)\n\u001b[1;32m--> 438\u001b[0m \u001b[38;5;28;43mself\u001b[39;49m\u001b[38;5;241;43m.\u001b[39;49m\u001b[43msocket\u001b[49m\u001b[38;5;241;43m.\u001b[39;49m\u001b[43mconnect\u001b[49m\u001b[43m(\u001b[49m\u001b[43m(\u001b[49m\u001b[38;5;28;43mself\u001b[39;49m\u001b[38;5;241;43m.\u001b[39;49m\u001b[43mjava_address\u001b[49m\u001b[43m,\u001b[49m\u001b[43m \u001b[49m\u001b[38;5;28;43mself\u001b[39;49m\u001b[38;5;241;43m.\u001b[39;49m\u001b[43mjava_port\u001b[49m\u001b[43m)\u001b[49m\u001b[43m)\u001b[49m\n\u001b[0;32m    439\u001b[0m \u001b[38;5;28mself\u001b[39m\u001b[38;5;241m.\u001b[39mstream \u001b[38;5;241m=\u001b[39m \u001b[38;5;28mself\u001b[39m\u001b[38;5;241m.\u001b[39msocket\u001b[38;5;241m.\u001b[39mmakefile(\u001b[38;5;124m\"\u001b[39m\u001b[38;5;124mrb\u001b[39m\u001b[38;5;124m\"\u001b[39m)\n\u001b[0;32m    440\u001b[0m \u001b[38;5;28mself\u001b[39m\u001b[38;5;241m.\u001b[39mis_connected \u001b[38;5;241m=\u001b[39m \u001b[38;5;28;01mTrue\u001b[39;00m\n",
      "\u001b[1;31mConnectionRefusedError\u001b[0m: [WinError 10061] No connection could be made because the target machine actively refused it"
     ]
    }
   ],
   "source": [
    "query = \"\"\"SELECT * FROM listing inner join review as r_1 on listing.listing_id=r_1.listing_id\n",
    "                                        join review as r_2 on r_1.listing_id=r_2.listing_id\"\"\"\n",
    "\n",
    "df = spark.sql(query)\n",
    "\n",
    "df.collect()"
   ]
  }
 ],
 "metadata": {
  "kernelspec": {
   "display_name": "myenv",
   "language": "python",
   "name": "python3"
  },
  "language_info": {
   "codemirror_mode": {
    "name": "ipython",
    "version": 3
   },
   "file_extension": ".py",
   "mimetype": "text/x-python",
   "name": "python",
   "nbconvert_exporter": "python",
   "pygments_lexer": "ipython3",
   "version": "3.10.11"
  }
 },
 "nbformat": 4,
 "nbformat_minor": 2
}
